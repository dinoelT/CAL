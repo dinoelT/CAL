{
  "nbformat": 4,
  "nbformat_minor": 0,
  "metadata": {
    "colab": {
      "name": "testScore_viz.ipynb",
      "provenance": [],
      "collapsed_sections": [],
      "authorship_tag": "ABX9TyPX/7qvvwDzK3iCYNN3A7uk",
      "include_colab_link": true
    },
    "kernelspec": {
      "name": "python3",
      "display_name": "Python 3"
    },
    "language_info": {
      "name": "python"
    }
  },
  "cells": [
    {
      "cell_type": "markdown",
      "metadata": {
        "id": "view-in-github",
        "colab_type": "text"
      },
      "source": [
        "<a href=\"https://colab.research.google.com/github/dinoelT/CAL/blob/master/testScore_viz.ipynb\" target=\"_parent\"><img src=\"https://colab.research.google.com/assets/colab-badge.svg\" alt=\"Open In Colab\"/></a>"
      ]
    },
    {
      "cell_type": "code",
      "metadata": {
        "id": "ZxKzSM8QCf4s"
      },
      "source": [
        "import altair as alt\n",
        "import pandas as pd\n",
        "import requests\n",
        "import codecs\n",
        "from requests.exceptions import HTTPError\n",
        "import openpyxl"
      ],
      "execution_count": 15,
      "outputs": []
    },
    {
      "cell_type": "code",
      "metadata": {
        "id": "08KuoCZ1eAfx"
      },
      "source": [
        "#add export?format=xlsx after id\n",
        "url = \"https://docs.google.com/spreadsheets/d/1pUDOO5rROKI20sP5p5_2gVCMvsOoBoFzYUNtz2fZYqA/export?format=xlsx\""
      ],
      "execution_count": 16,
      "outputs": []
    },
    {
      "cell_type": "code",
      "metadata": {
        "colab": {
          "base_uri": "https://localhost:8080/"
        },
        "id": "oh0ZwdBWa9Ll",
        "outputId": "5d53d420-660e-4785-d92b-71258ec286b8"
      },
      "source": [
        "\n",
        "try:\n",
        "  #Send get request\n",
        "  response = requests.get(url)\n",
        "  # If the response was successful, no Exception will be raised\n",
        "  response.raise_for_status()\n",
        "except HTTPError as http_err:\n",
        "  print(f'HTTP error occurred: {http_err}')\n",
        "except Exception as err:\n",
        "  print(f'Other error occurred: {err}')\n",
        "else:\n",
        "  print('Request successfully!')"
      ],
      "execution_count": 17,
      "outputs": [
        {
          "output_type": "stream",
          "text": [
            "Request successfully!\n"
          ],
          "name": "stdout"
        }
      ]
    },
    {
      "cell_type": "code",
      "metadata": {
        "colab": {
          "base_uri": "https://localhost:8080/"
        },
        "id": "ABSb72vMiqIb",
        "outputId": "28cf06c7-c49d-4f2b-8466-2a8892b6cd28"
      },
      "source": [
        "excelFileName = \"excel.xlsx\"\n",
        "\n",
        "writeSuccessful = True\n",
        "try:\n",
        "  with codecs.open(excelFileName, 'wb') as f:\n",
        "    f.write(response.content)\n",
        "except Exception as err:\n",
        "  print(f\"Error occured when writing file: {err}\")\n",
        "  writeSuccessful = False\n",
        "else:\n",
        "  print(\"Excel file written successfully\")\n"
      ],
      "execution_count": 18,
      "outputs": [
        {
          "output_type": "stream",
          "text": [
            "Excel file written successfully\n"
          ],
          "name": "stdout"
        }
      ]
    },
    {
      "cell_type": "code",
      "metadata": {
        "colab": {
          "base_uri": "https://localhost:8080/"
        },
        "id": "WgSmzkMvkcTV",
        "outputId": "dd6e636b-1195-4db3-d8d7-b870a46181b0"
      },
      "source": [
        "#Get the sheet names in excel. \n",
        "sheetNames = openpyxl.load_workbook(excelFileName, read_only=True).sheetnames\n",
        "print(f\"Sheet names: {sheetNames}\")"
      ],
      "execution_count": 19,
      "outputs": [
        {
          "output_type": "stream",
          "text": [
            "Sheet names: ['ИТБ', 'ФЭТ', 'ФМ']\n"
          ],
          "name": "stdout"
        }
      ]
    },
    {
      "cell_type": "code",
      "metadata": {
        "id": "13T0H_TVnGvR"
      },
      "source": [
        "if writeSuccessful:\n",
        "  #Read pandas dataframes from Excel file that was saved\n",
        "  dfs = [ pd.read_excel(excelFileName, header=1, sheet_name=sh) for sh in sheetNames]\n",
        "else:\n",
        "  #Read pandas dataframes from binary data stored in response.content\n",
        "  dfs = [ pd.read_excel(response.content, header=1, sheet_name=sh) for sh in sheetNames]\n"
      ],
      "execution_count": 20,
      "outputs": []
    },
    {
      "cell_type": "code",
      "metadata": {
        "id": "Xg5f02G7n7fJ"
      },
      "source": [
        "#altair does not work with russian characters. Define sheet names in english\n",
        "engSheetNames = [\"ITMB\", \"FET\", \"FM\"]\n",
        "\n",
        "for i, sheetName in enumerate(engSheetNames):\n",
        "  dfs[i]['Program'] = sheetName"
      ],
      "execution_count": 21,
      "outputs": []
    },
    {
      "cell_type": "code",
      "metadata": {
        "id": "bMXbwaScqDRQ"
      },
      "source": [
        "#Concatenate the dataframes from all sheets\n",
        "df = pd.concat(dfs, ignore_index=True)\n",
        "\n",
        "#Drop the columns which have all nan values\n",
        "df = df.dropna(axis='columns', how = 'all')"
      ],
      "execution_count": 22,
      "outputs": []
    },
    {
      "cell_type": "code",
      "metadata": {
        "colab": {
          "base_uri": "https://localhost:8080/"
        },
        "id": "kvjqSEP9qvUd",
        "outputId": "faa7e90d-87e9-43c0-9f5a-9c04b19e12db"
      },
      "source": [
        "print(f\"Russian column names: {list(df.columns)}\")"
      ],
      "execution_count": 23,
      "outputs": [
        {
          "output_type": "stream",
          "text": [
            "Russian column names: ['№', 'ФИО', 'сумма баллов', 'Мат.', 'Русс.', 'ИКТ', 'Бюджет/договор', 'Program', 'Ин.яз']\n"
          ],
          "name": "stdout"
        }
      ]
    },
    {
      "cell_type": "code",
      "metadata": {
        "id": "yoRVcFo0Lb8I"
      },
      "source": [
        "filterColumns = ['ФИО', 'сумма баллов', 'Мат.', 'Русс.', 'ИКТ', 'Program', 'Ин.яз']\n",
        "\n",
        "#Filter only the needed columns\n",
        "df = df[filterColumns]"
      ],
      "execution_count": 24,
      "outputs": []
    },
    {
      "cell_type": "code",
      "metadata": {
        "colab": {
          "base_uri": "https://localhost:8080/"
        },
        "id": "G1gMmiYuraUh",
        "outputId": "ca87178d-29f7-45f1-a75b-3d8fa1f8544c"
      },
      "source": [
        "print(f\"Russian column names: {list(df.columns)}\")"
      ],
      "execution_count": 25,
      "outputs": [
        {
          "output_type": "stream",
          "text": [
            "Russian column names: ['ФИО', 'сумма баллов', 'Мат.', 'Русс.', 'ИКТ', 'Program', 'Ин.яз']\n"
          ],
          "name": "stdout"
        }
      ]
    },
    {
      "cell_type": "code",
      "metadata": {
        "id": "IPxuWjqKr_g9"
      },
      "source": [
        "#Translate columns to english\n",
        "englishColumns = ['Name', 'Total Score', 'Math', 'Russian', 'IT', 'Program', 'Foreign Language']\n",
        "\n",
        "df.columns = englishColumns"
      ],
      "execution_count": 26,
      "outputs": []
    },
    {
      "cell_type": "code",
      "metadata": {
        "colab": {
          "base_uri": "https://localhost:8080/",
          "height": 204
        },
        "id": "8Bm9MZ4Mr_jL",
        "outputId": "32f7a20f-39ea-4309-dd7f-c01e60ff8475"
      },
      "source": [
        "df.head()"
      ],
      "execution_count": 27,
      "outputs": [
        {
          "output_type": "execute_result",
          "data": {
            "text/html": [
              "<div>\n",
              "<style scoped>\n",
              "    .dataframe tbody tr th:only-of-type {\n",
              "        vertical-align: middle;\n",
              "    }\n",
              "\n",
              "    .dataframe tbody tr th {\n",
              "        vertical-align: top;\n",
              "    }\n",
              "\n",
              "    .dataframe thead th {\n",
              "        text-align: right;\n",
              "    }\n",
              "</style>\n",
              "<table border=\"1\" class=\"dataframe\">\n",
              "  <thead>\n",
              "    <tr style=\"text-align: right;\">\n",
              "      <th></th>\n",
              "      <th>Name</th>\n",
              "      <th>Total Score</th>\n",
              "      <th>Math</th>\n",
              "      <th>Russian</th>\n",
              "      <th>IT</th>\n",
              "      <th>Program</th>\n",
              "      <th>Foreign Language</th>\n",
              "    </tr>\n",
              "  </thead>\n",
              "  <tbody>\n",
              "    <tr>\n",
              "      <th>0</th>\n",
              "      <td>Абрамов Петр Александрович</td>\n",
              "      <td>243</td>\n",
              "      <td>75.0</td>\n",
              "      <td>98.0</td>\n",
              "      <td>70.0</td>\n",
              "      <td>ITMB</td>\n",
              "      <td>NaN</td>\n",
              "    </tr>\n",
              "    <tr>\n",
              "      <th>1</th>\n",
              "      <td>Амерханова Наргиза Артуровна</td>\n",
              "      <td>286</td>\n",
              "      <td>96.0</td>\n",
              "      <td>89.0</td>\n",
              "      <td>96.0</td>\n",
              "      <td>ITMB</td>\n",
              "      <td>NaN</td>\n",
              "    </tr>\n",
              "    <tr>\n",
              "      <th>2</th>\n",
              "      <td>Баранов Алексей Алексеевич</td>\n",
              "      <td>235</td>\n",
              "      <td>45.0</td>\n",
              "      <td>96.0</td>\n",
              "      <td>94.0</td>\n",
              "      <td>ITMB</td>\n",
              "      <td>NaN</td>\n",
              "    </tr>\n",
              "    <tr>\n",
              "      <th>3</th>\n",
              "      <td>Баубеков Мирас Булатулы</td>\n",
              "      <td>217</td>\n",
              "      <td>70.0</td>\n",
              "      <td>81.0</td>\n",
              "      <td>66.0</td>\n",
              "      <td>ITMB</td>\n",
              "      <td>NaN</td>\n",
              "    </tr>\n",
              "    <tr>\n",
              "      <th>4</th>\n",
              "      <td>Богун Владислав Олегович</td>\n",
              "      <td>242</td>\n",
              "      <td>78.0</td>\n",
              "      <td>85.0</td>\n",
              "      <td>79.0</td>\n",
              "      <td>ITMB</td>\n",
              "      <td>NaN</td>\n",
              "    </tr>\n",
              "  </tbody>\n",
              "</table>\n",
              "</div>"
            ],
            "text/plain": [
              "                           Name Total Score  ...  Program  Foreign Language\n",
              "0    Абрамов Петр Александрович         243  ...     ITMB               NaN\n",
              "1  Амерханова Наргиза Артуровна         286  ...     ITMB               NaN\n",
              "2    Баранов Алексей Алексеевич         235  ...     ITMB               NaN\n",
              "3       Баубеков Мирас Булатулы         217  ...     ITMB               NaN\n",
              "4      Богун Владислав Олегович         242  ...     ITMB               NaN\n",
              "\n",
              "[5 rows x 7 columns]"
            ]
          },
          "metadata": {
            "tags": []
          },
          "execution_count": 27
        }
      ]
    },
    {
      "cell_type": "code",
      "metadata": {
        "colab": {
          "base_uri": "https://localhost:8080/",
          "height": 368
        },
        "id": "XeEpaGnzr_lp",
        "outputId": "7a799dee-2e4f-4a2b-c371-896d79fc5599"
      },
      "source": [
        "\n",
        "alt.Chart(df).mark_circle(size=60).encode(\n",
        "    x='Math',\n",
        "    y='Russian',\n",
        "    color='Program',\n",
        "    tooltip=['Name', 'Total Score']\n",
        ").interactive()"
      ],
      "execution_count": 28,
      "outputs": [
        {
          "output_type": "execute_result",
          "data": {
            "text/plain": [
              "alt.Chart(...)"
            ],
            "text/html": [
              "\n",
              "<div id=\"altair-viz-cad9c5de2eef41368d9acc11429d387e\"></div>\n",
              "<script type=\"text/javascript\">\n",
              "  (function(spec, embedOpt){\n",
              "    let outputDiv = document.currentScript.previousElementSibling;\n",
              "    if (outputDiv.id !== \"altair-viz-cad9c5de2eef41368d9acc11429d387e\") {\n",
              "      outputDiv = document.getElementById(\"altair-viz-cad9c5de2eef41368d9acc11429d387e\");\n",
              "    }\n",
              "    const paths = {\n",
              "      \"vega\": \"https://cdn.jsdelivr.net/npm//vega@5?noext\",\n",
              "      \"vega-lib\": \"https://cdn.jsdelivr.net/npm//vega-lib?noext\",\n",
              "      \"vega-lite\": \"https://cdn.jsdelivr.net/npm//vega-lite@4.8.1?noext\",\n",
              "      \"vega-embed\": \"https://cdn.jsdelivr.net/npm//vega-embed@6?noext\",\n",
              "    };\n",
              "\n",
              "    function loadScript(lib) {\n",
              "      return new Promise(function(resolve, reject) {\n",
              "        var s = document.createElement('script');\n",
              "        s.src = paths[lib];\n",
              "        s.async = true;\n",
              "        s.onload = () => resolve(paths[lib]);\n",
              "        s.onerror = () => reject(`Error loading script: ${paths[lib]}`);\n",
              "        document.getElementsByTagName(\"head\")[0].appendChild(s);\n",
              "      });\n",
              "    }\n",
              "\n",
              "    function showError(err) {\n",
              "      outputDiv.innerHTML = `<div class=\"error\" style=\"color:red;\">${err}</div>`;\n",
              "      throw err;\n",
              "    }\n",
              "\n",
              "    function displayChart(vegaEmbed) {\n",
              "      vegaEmbed(outputDiv, spec, embedOpt)\n",
              "        .catch(err => showError(`Javascript Error: ${err.message}<br>This usually means there's a typo in your chart specification. See the javascript console for the full traceback.`));\n",
              "    }\n",
              "\n",
              "    if(typeof define === \"function\" && define.amd) {\n",
              "      requirejs.config({paths});\n",
              "      require([\"vega-embed\"], displayChart, err => showError(`Error loading script: ${err.message}`));\n",
              "    } else if (typeof vegaEmbed === \"function\") {\n",
              "      displayChart(vegaEmbed);\n",
              "    } else {\n",
              "      loadScript(\"vega\")\n",
              "        .then(() => loadScript(\"vega-lite\"))\n",
              "        .then(() => loadScript(\"vega-embed\"))\n",
              "        .catch(showError)\n",
              "        .then(() => displayChart(vegaEmbed));\n",
              "    }\n",
              "  })({\"config\": {\"view\": {\"continuousWidth\": 400, \"continuousHeight\": 300}}, \"data\": {\"name\": \"data-ac38577e1527655d5d280cebdd647b3d\"}, \"mark\": {\"type\": \"circle\", \"size\": 60}, \"encoding\": {\"color\": {\"type\": \"nominal\", \"field\": \"Program\"}, \"tooltip\": [{\"type\": \"nominal\", \"field\": \"Name\"}, {\"type\": \"quantitative\", \"field\": \"Total Score\"}], \"x\": {\"type\": \"quantitative\", \"field\": \"Math\"}, \"y\": {\"type\": \"quantitative\", \"field\": \"Russian\"}}, \"selection\": {\"selector002\": {\"type\": \"interval\", \"bind\": \"scales\", \"encodings\": [\"x\", \"y\"]}}, \"$schema\": \"https://vega.github.io/schema/vega-lite/v4.8.1.json\", \"datasets\": {\"data-ac38577e1527655d5d280cebdd647b3d\": [{\"Name\": \"\\u0410\\u0431\\u0440\\u0430\\u043c\\u043e\\u0432 \\u041f\\u0435\\u0442\\u0440 \\u0410\\u043b\\u0435\\u043a\\u0441\\u0430\\u043d\\u0434\\u0440\\u043e\\u0432\\u0438\\u0447\", \"Total Score\": 243, \"Math\": 75.0, \"Russian\": 98.0, \"IT\": 70.0, \"Program\": \"ITMB\", \"Foreign Language\": null}, {\"Name\": \"\\u0410\\u043c\\u0435\\u0440\\u0445\\u0430\\u043d\\u043e\\u0432\\u0430 \\u041d\\u0430\\u0440\\u0433\\u0438\\u0437\\u0430 \\u0410\\u0440\\u0442\\u0443\\u0440\\u043e\\u0432\\u043d\\u0430\", \"Total Score\": 286, \"Math\": 96.0, \"Russian\": 89.0, \"IT\": 96.0, \"Program\": \"ITMB\", \"Foreign Language\": null}, {\"Name\": \"\\u0411\\u0430\\u0440\\u0430\\u043d\\u043e\\u0432 \\u0410\\u043b\\u0435\\u043a\\u0441\\u0435\\u0439 \\u0410\\u043b\\u0435\\u043a\\u0441\\u0435\\u0435\\u0432\\u0438\\u0447\", \"Total Score\": 235, \"Math\": 45.0, \"Russian\": 96.0, \"IT\": 94.0, \"Program\": \"ITMB\", \"Foreign Language\": null}, {\"Name\": \"\\u0411\\u0430\\u0443\\u0431\\u0435\\u043a\\u043e\\u0432 \\u041c\\u0438\\u0440\\u0430\\u0441 \\u0411\\u0443\\u043b\\u0430\\u0442\\u0443\\u043b\\u044b\", \"Total Score\": 217, \"Math\": 70.0, \"Russian\": 81.0, \"IT\": 66.0, \"Program\": \"ITMB\", \"Foreign Language\": null}, {\"Name\": \"\\u0411\\u043e\\u0433\\u0443\\u043d \\u0412\\u043b\\u0430\\u0434\\u0438\\u0441\\u043b\\u0430\\u0432 \\u041e\\u043b\\u0435\\u0433\\u043e\\u0432\\u0438\\u0447\", \"Total Score\": 242, \"Math\": 78.0, \"Russian\": 85.0, \"IT\": 79.0, \"Program\": \"ITMB\", \"Foreign Language\": null}, {\"Name\": \"\\u0411\\u043e\\u0439\\u0447\\u0435\\u043d\\u043a\\u043e \\u0410\\u043d\\u043d\\u0430 \\u0414\\u043c\\u0438\\u0442\\u0440\\u0438\\u0435\\u0432\\u043d\\u0430\", \"Total Score\": 275, \"Math\": 86.0, \"Russian\": 89.0, \"IT\": 96.0, \"Program\": \"ITMB\", \"Foreign Language\": null}, {\"Name\": \"\\u0412\\u043e\\u0440\\u043e\\u043d\\u043a\\u043e\\u0432 \\u0413\\u0435\\u043e\\u0440\\u0433\\u0438\\u0439 \\u042e\\u0440\\u044c\\u0435\\u0432\\u0438\\u0447\", \"Total Score\": 184, \"Math\": 45.0, \"Russian\": 72.0, \"IT\": 67.0, \"Program\": \"ITMB\", \"Foreign Language\": null}, {\"Name\": \"\\u0414\\u0430\\u043d\\u0438\\u043b\\u044c\\u0447\\u0435\\u043d\\u043a\\u043e \\u0418\\u043b\\u044c\\u044f \\u0412\\u043b\\u0430\\u0434\\u0438\\u043c\\u0438\\u0440\\u043e\\u0432\\u0438\\u0447\", \"Total Score\": 253, \"Math\": 74.0, \"Russian\": 91.0, \"IT\": 83.0, \"Program\": \"ITMB\", \"Foreign Language\": null}, {\"Name\": \"\\u0414\\u0435\\u043d\\u0438\\u0441\\u043e\\u0432\\u0430 \\u0410\\u043d\\u043d\\u0430 \\u041b\\u0435\\u043e\\u043d\\u0438\\u0434\\u043e\\u0432\\u043d\\u0430\", \"Total Score\": 217, \"Math\": 72.0, \"Russian\": 71.0, \"IT\": 73.0, \"Program\": \"ITMB\", \"Foreign Language\": null}, {\"Name\": \"\\u0414\\u0436\\u0430\\u043c\\u0430\\u043b\\u0443\\u0442\\u0434\\u0438\\u043d\\u043e\\u0432 \\u0422\\u0430\\u0433\\u0438\\u0440 \\u0421\\u0430\\u0438\\u0434\\u043e\\u0432\\u0438\\u0447\", \"Total Score\": 192, \"Math\": 68.0, \"Russian\": 56.0, \"IT\": 68.0, \"Program\": \"ITMB\", \"Foreign Language\": null}, {\"Name\": \"\\u041a\\u043b\\u0430\\u0434\\u044c\\u043a\\u043e \\u0412\\u0430\\u043b\\u0435\\u0440\\u0438\\u044f \\u041c\\u0438\\u0445\\u0430\\u0439\\u043b\\u043e\\u0432\\u043d\\u0430\", \"Total Score\": 240, \"Math\": 74.0, \"Russian\": 80.0, \"IT\": 81.0, \"Program\": \"ITMB\", \"Foreign Language\": null}, {\"Name\": \"\\u041b\\u0443\\u0448\\u043a\\u0438\\u043d \\u041c\\u0430\\u043a\\u0441\\u0438\\u043c \\u0414\\u043c\\u0438\\u0442\\u0440\\u0438\\u0435\\u0432\\u0438\\u0447\", \"Total Score\": 214, \"Math\": 70.0, \"Russian\": 70.0, \"IT\": 73.0, \"Program\": \"ITMB\", \"Foreign Language\": null}, {\"Name\": \"\\u041c\\u0430\\u0440\\u043a\\u043e\\u0432\\u0438\\u0447\\u0435\\u043d\\u043a\\u043e \\u041c\\u0430\\u043a\\u0441\\u0438\\u043c \\u0421\\u0435\\u0440\\u0433\\u0435\\u0435\\u0432\\u0438\\u0447\", \"Total Score\": 272, \"Math\": 82.0, \"Russian\": 98.0, \"IT\": 88.0, \"Program\": \"ITMB\", \"Foreign Language\": null}, {\"Name\": \"\\u041d\\u0438\\u0437\\u0430\\u043c\\u0435\\u0435\\u0432 \\u0422\\u0438\\u043c\\u0443\\u0440 \\u0418\\u0440\\u0438\\u043a\\u043e\\u0432\\u0438\\u0447\", \"Total Score\": 195, \"Math\": 72.0, \"Russian\": 70.0, \"IT\": 53.0, \"Program\": \"ITMB\", \"Foreign Language\": null}, {\"Name\": \"\\u041f\\u043e\\u043b\\u0435\\u0436\\u0430\\u0435\\u0432 \\u0410\\u043d\\u0442\\u043e\\u043d \\u041a\\u0438\\u0440\\u0438\\u043b\\u043b\\u043e\\u0432\\u0438\\u0447\", \"Total Score\": 246, \"Math\": 82.0, \"Russian\": 76.0, \"IT\": 83.0, \"Program\": \"ITMB\", \"Foreign Language\": null}, {\"Name\": \"\\u041f\\u043e\\u043f\\u043e\\u0432\\u0430 \\u0410\\u043d\\u0430\\u0441\\u0442\\u0430\\u0441\\u0438\\u044f \\u041c\\u0438\\u0445\\u0430\\u0439\\u043b\\u043e\\u0432\\u043d\\u0430\", \"Total Score\": 280, \"Math\": 86.0, \"Russian\": 94.0, \"IT\": 100.0, \"Program\": \"ITMB\", \"Foreign Language\": null}, {\"Name\": \"\\u041f\\u043e\\u0442\\u0451\\u043c\\u043a\\u0438\\u043d \\u041c\\u0430\\u0442\\u0432\\u0435\\u0439 \\u041e\\u043b\\u0435\\u0433\\u043e\\u0432\\u0438\\u0447\", \"Total Score\": 223, \"Math\": 72.0, \"Russian\": 72.0, \"IT\": 79.0, \"Program\": \"ITMB\", \"Foreign Language\": null}, {\"Name\": \"\\u041f\\u0440\\u043e\\u0445\\u043e\\u0440\\u043e\\u0432\\u0430 \\u0410\\u043d\\u0430\\u0441\\u0442\\u0430\\u0441\\u0438\\u044f \\u041d\\u0438\\u043a\\u043e\\u043b\\u0430\\u0435\\u0432\\u043d\\u0430\", \"Total Score\": 203, \"Math\": 72.0, \"Russian\": 78.0, \"IT\": 53.0, \"Program\": \"ITMB\", \"Foreign Language\": null}, {\"Name\": \"\\u0421\\u0430\\u0432\\u0435\\u043b\\u044c\\u0435\\u0432 \\u041d\\u0438\\u043a\\u0438\\u0442\\u0430 \\u0410\\u043b\\u0435\\u043a\\u0441\\u0430\\u043d\\u0434\\u0440\\u043e\\u0432\\u0438\\u0447\", \"Total Score\": 241, \"Math\": 82.0, \"Russian\": 89.0, \"IT\": 70.0, \"Program\": \"ITMB\", \"Foreign Language\": null}, {\"Name\": \"\\u0421\\u0438\\u043d\\u0442\\u044f\\u043b\\u0451\\u0432 \\u0410\\u043b\\u0435\\u043a\\u0441\\u0430\\u043d\\u0434\\u0440 \\u0410\\u043b\\u0435\\u043a\\u0441\\u0430\\u043d\\u0434\\u0440\\u043e\\u0432\\u0438\\u0447\", \"Total Score\": 175, \"Math\": 56.0, \"Russian\": 51.0, \"IT\": 68.0, \"Program\": \"ITMB\", \"Foreign Language\": null}, {\"Name\": \"\\u0421\\u043e\\u043a\\u043e\\u043b\\u043e\\u0432 \\u0410\\u043b\\u0435\\u043a\\u0441\\u0435\\u0439 \\u0414\\u043c\\u0438\\u0442\\u0440\\u0438\\u0435\\u0432\\u0438\\u0447\", \"Total Score\": 190, \"Math\": 39.0, \"Russian\": 71.0, \"IT\": 80.0, \"Program\": \"ITMB\", \"Foreign Language\": null}, {\"Name\": \"\\u0422\\u0443\\u0440\\u0438\\u0449\\u0435\\u0432 \\u041d\\u0438\\u043a\\u0438\\u0442\\u0430 \\u0412\\u043b\\u0430\\u0434\\u0438\\u043c\\u0438\\u0440\\u043e\\u0432\\u0438\\u0447\", \"Total Score\": 270, \"Math\": 90.0, \"Russian\": 96.0, \"IT\": 84.0, \"Program\": \"ITMB\", \"Foreign Language\": null}, {\"Name\": \"\\u0427\\u0435\\u0440\\u043a\\u0430\\u0441\\u043e\\u0432 \\u0410\\u043d\\u0434\\u0440\\u0435\\u0439 \\u0410\\u043d\\u0434\\u0440\\u0435\\u0435\\u0432\\u0438\\u0447\", \"Total Score\": 186, \"Math\": 56.0, \"Russian\": 65.0, \"IT\": 65.0, \"Program\": \"ITMB\", \"Foreign Language\": null}, {\"Name\": \"\\u0427\\u0435\\u0440\\u043a\\u0430\\u0441\\u043e\\u0432 \\u0410\\u0440\\u0442\\u0451\\u043c \\u041e\\u043b\\u0435\\u0433\\u043e\\u0432\\u0438\\u0447\", \"Total Score\": 225, \"Math\": 78.0, \"Russian\": 72.0, \"IT\": 75.0, \"Program\": \"ITMB\", \"Foreign Language\": null}, {\"Name\": \"\\u0421\\u0435\\u0440\\u0435\\u0433\\u0438\\u043d \\u0410\\u043b\\u0435\\u043a\\u0441\\u0435\\u0439 \\u0410\\u043b\\u0435\\u043a\\u0441\\u0430\\u043d\\u0434\\u0440\\u043e\\u0432\\u0438\\u0447\", \"Total Score\": \"\\u043f\\u0435\\u0440\\u0435\\u0432\\u043e\\u0434\", \"Math\": null, \"Russian\": null, \"IT\": null, \"Program\": \"ITMB\", \"Foreign Language\": null}, {\"Name\": \"\\u0421\\u0438\\u0442\\u043d\\u0438\\u043a\\u043e\\u0432 \\u0414\\u0435\\u043d\\u0438\\u0441 \\u0418\\u0433\\u043e\\u0440\\u0435\\u0432\\u0438\\u0447\", \"Total Score\": \"\\u0432\\u043e\\u0441\\u0441\\u0442\\u0430\\u043d\\u043e\\u0432\", \"Math\": null, \"Russian\": null, \"IT\": null, \"Program\": \"ITMB\", \"Foreign Language\": null}, {\"Name\": \"\\u041c\\u0430\\u0440\\u0438\\u043d\\u0447\\u0435\\u043d\\u043a\\u043e \\u0418\\u0433\\u043e\\u0440\\u044c \\u0418\\u0433\\u043e\\u0440\\u0435\\u0432\\u0438\\u0447\", \"Total Score\": \"\\u043f\\u0435\\u0440\\u0435\\u0432\\u043e\\u0434\", \"Math\": null, \"Russian\": null, \"IT\": null, \"Program\": \"ITMB\", \"Foreign Language\": null}, {\"Name\": \"\\u0410\\u0431\\u0434\\u0443\\u043b\\u043b\\u0430\\u0435\\u0432 \\u0428\\u0438\\u0445\\u0437\\u0430\\u0433\\u0438\\u0440 \\u0428\\u0438\\u0445\\u0432\\u0435\\u043b\\u0438\\u0435\\u0432\\u0438\\u0447\", \"Total Score\": 183, \"Math\": 50.0, \"Russian\": 69.0, \"IT\": null, \"Program\": \"FET\", \"Foreign Language\": 60.0}, {\"Name\": \"\\u041a\\u0440\\u0430\\u0441\\u043e\\u0432\\u0441\\u043a\\u0438\\u0439 \\u041c\\u0430\\u0442\\u0432\\u0435\\u0439 \\u0413\\u0435\\u043d\\u043d\\u0430\\u0434\\u044c\\u0435\\u0432\\u0438\\u0447\", \"Total Score\": 213, \"Math\": 56.0, \"Russian\": 78.0, \"IT\": null, \"Program\": \"FET\", \"Foreign Language\": 78.0}, {\"Name\": \"\\u041c\\u0430\\u0433\\u043e\\u043c\\u0435\\u0434\\u0445\\u0430\\u0436\\u0438\\u0435\\u0432 \\u0428\\u0430\\u0440\\u0438\\u043f \\u0420\\u0443\\u0441\\u043b\\u0430\\u043d\\u043e\\u0432\\u0438\\u0447\", \"Total Score\": 179, \"Math\": 50.0, \"Russian\": 73.0, \"IT\": null, \"Program\": \"FET\", \"Foreign Language\": 56.0}, {\"Name\": \"\\u041f\\u0430\\u043d\\u0430\\u0441\\u044e\\u043a \\u041c\\u0438\\u043b\\u0435\\u043d\\u0430 \\u0421\\u0435\\u0440\\u0433\\u0435\\u0435\\u0432\\u043d\\u0430\", \"Total Score\": 251, \"Math\": 68.0, \"Russian\": 96.0, \"IT\": null, \"Program\": \"FET\", \"Foreign Language\": 83.0}, {\"Name\": \"\\u0428\\u0430\\u043b\\u0430\\u0432\\u0438\\u043d \\u042d\\u0434\\u0443\\u0430\\u0440\\u0434 \\u0410\\u043b\\u0435\\u043a\\u0441\\u0430\\u043d\\u0434\\u0440\\u043e\\u0432\\u0438\\u0447\", \"Total Score\": 243, \"Math\": 74.0, \"Russian\": 82.0, \"IT\": null, \"Program\": \"FET\", \"Foreign Language\": 87.0}, {\"Name\": \"\\u042d\\u0434\\u0438\\u0435\\u0432 \\u0425\\u0430\\u0432\\u0430\\u0436-\\u0411\\u0430\\u0443\\u0434\\u0438\\u043d \\u0428\\u0430\\u043c\\u0438\\u043b\\u044c\\u0435\\u0432\\u0438\\u0447\", \"Total Score\": 170, \"Math\": 50.0, \"Russian\": 66.0, \"IT\": null, \"Program\": \"FET\", \"Foreign Language\": 54.0}, {\"Name\": \"\\u0418\\u0448\\u0445\\u0430\\u043d\\u043e\\u0432 \\u0413\\u0435\\u0440\\u043c\\u0430\\u043d \\u0410\\u0440\\u043c\\u0435\\u043d\\u043e\\u0432\\u0438\\u0447\", \"Total Score\": \"\\u043f\\u0435\\u0440\\u0435\\u0432\\u043e\\u0434\", \"Math\": null, \"Russian\": null, \"IT\": null, \"Program\": \"FET\", \"Foreign Language\": null}, {\"Name\": \"\\u0410\\u0433\\u0435\\u0435\\u043d\\u043a\\u043e \\u0414\\u043c\\u0438\\u0442\\u0440\\u0438\\u0439 \\u041e\\u043b\\u0435\\u0433\\u043e\\u0432\\u0438\\u0447\", \"Total Score\": 209, \"Math\": 56.0, \"Russian\": 78.0, \"IT\": null, \"Program\": \"FM\", \"Foreign Language\": 75.0}, {\"Name\": \"\\u0411\\u0440\\u043e\\u043d\\u043d\\u0438\\u043a\\u043e\\u0432 \\u0410\\u043b\\u0435\\u043a\\u0441\\u0430\\u043d\\u0434\\u0440 \\u0421\\u0435\\u0440\\u0433\\u0435\\u0435\\u0432\\u0438\\u0447\", \"Total Score\": 204, \"Math\": 50.0, \"Russian\": 85.0, \"IT\": null, \"Program\": \"FM\", \"Foreign Language\": 69.0}, {\"Name\": \"\\u0411\\u0443\\u0445\\u043d\\u043e\\u0432 \\u0410\\u043b\\u0435\\u043a\\u0441\\u0435\\u0439 \\u0412\\u0438\\u043a\\u0442\\u043e\\u0440\\u043e\\u0432\\u0438\\u0447\", \"Total Score\": 253, \"Math\": 82.0, \"Russian\": 85.0, \"IT\": null, \"Program\": \"FM\", \"Foreign Language\": 86.0}, {\"Name\": \"\\u0413\\u043e\\u0434\\u0436\\u0430\\u0435\\u0432 \\u042d\\u043c\\u0438\\u0440 \\u0418\\u043b\\u044c\\u0433\\u0430\\u0440\\u043e\\u0432\\u0438\\u0447\", \"Total Score\": 204, \"Math\": 62.0, \"Russian\": 82.0, \"IT\": null, \"Program\": \"FM\", \"Foreign Language\": 60.0}, {\"Name\": \"\\u0415\\u043b\\u0438\\u0437\\u0430\\u0440\\u043e\\u0432\\u0430 \\u042f\\u043d\\u0430 \\u041f\\u0430\\u0432\\u043b\\u043e\\u0432\\u043d\\u0430\", \"Total Score\": 262, \"Math\": 80.0, \"Russian\": 94.0, \"IT\": null, \"Program\": \"FM\", \"Foreign Language\": 83.0}, {\"Name\": \"\\u0421\\u0430\\u043c\\u043e\\u0445\\u0438\\u043d\\u0430 \\u0414\\u0438\\u0430\\u043d\\u0430 \\u0420\\u043e\\u043c\\u0430\\u043d\\u043e\\u0432\\u043d\\u0430\", \"Total Score\": 206, \"Math\": 56.0, \"Russian\": 76.0, \"IT\": null, \"Program\": \"FM\", \"Foreign Language\": 74.0}, {\"Name\": \"\\u0421\\u0431\\u0440\\u0443\\u0435\\u0432 \\u0413\\u0440\\u0438\\u0433\\u043e\\u0440\\u0438\\u0439 \\u0422\\u0438\\u043c\\u0443\\u0440\\u043e\\u0432\\u0438\\u0447\", \"Total Score\": 185, \"Math\": 56.0, \"Russian\": 56.0, \"IT\": null, \"Program\": \"FM\", \"Foreign Language\": 73.0}, {\"Name\": \"\\u0421\\u043a\\u043e\\u0431\\u0446\\u043e\\u0432\\u0430 \\u0410\\u043d\\u043d\\u0430 \\u041c\\u0430\\u043a\\u0441\\u0438\\u043c\\u043e\\u0432\\u043d\\u0430\", \"Total Score\": 249, \"Math\": 72.0, \"Russian\": 89.0, \"IT\": null, \"Program\": \"FM\", \"Foreign Language\": 88.0}, {\"Name\": \"\\u0422\\u0430\\u0440\\u0430\\u0431\\u0443\\u043a\\u0438\\u043d \\u0410\\u0440\\u0442\\u0435\\u043c \\u0414\\u043c\\u0438\\u0442\\u0440\\u0438\\u0435\\u0432\\u0438\\u0447\", \"Total Score\": 212, \"Math\": 50.0, \"Russian\": 76.0, \"IT\": null, \"Program\": \"FM\", \"Foreign Language\": 86.0}, {\"Name\": \"\\u0422\\u0438\\u0445\\u043e\\u043d\\u043e\\u0432 \\u0410\\u043d\\u0434\\u0440\\u0435\\u0439 \\u0410\\u043b\\u0435\\u043a\\u0441\\u0430\\u043d\\u0434\\u0440\\u043e\\u0432\\u0438\\u0447\", \"Total Score\": 179, \"Math\": 50.0, \"Russian\": 65.0, \"IT\": null, \"Program\": \"FM\", \"Foreign Language\": 64.0}, {\"Name\": \"\\u042e\\u0437\\u0432\\u043e\\u0432\\u0438\\u0447 \\u0418\\u043b\\u044c\\u044f \\u0410\\u043b\\u0435\\u043a\\u0441\\u0430\\u043d\\u0434\\u0440\\u043e\\u0432\\u0438\\u0447\", \"Total Score\": 192, \"Math\": 62.0, \"Russian\": 72.0, \"IT\": null, \"Program\": \"FM\", \"Foreign Language\": 58.0}, {\"Name\": \"\\u0421\\u043e\\u0431\\u043e\\u043b\\u0435\\u0432 \\u0421\\u0435\\u0440\\u0433\\u0435\\u0439 \\u0421\\u0435\\u0440\\u0433\\u0435\\u0435\\u0432\\u0438\\u0447\", \"Total Score\": \"\\u0432\\u043e\\u0441\\u0441\\u0442\\u0430\\u043d\\u043e\\u0432\", \"Math\": null, \"Russian\": null, \"IT\": null, \"Program\": \"FM\", \"Foreign Language\": null}, {\"Name\": \"\\u0411\\u0443\\u0440\\u043a\\u043e\\u0432\\u0430 \\u0421\\u0432\\u0435\\u0442\\u043b\\u0430\\u043d\\u0430 \\u0421\\u0435\\u0440\\u0433\\u0435\\u0435\\u0432\\u043d\\u0430\", \"Total Score\": \"\\u043f\\u0435\\u0440\\u0435\\u0432\\u043e\\u0434\", \"Math\": null, \"Russian\": null, \"IT\": null, \"Program\": \"FM\", \"Foreign Language\": null}, {\"Name\": \"\\u042f\\u0441\\u0442\\u0440\\u0435\\u0431\\u043e\\u0432 \\u041a\\u0438\\u0440\\u0438\\u043b\\u043b \\u0412\\u0438\\u0442\\u0430\\u043b\\u044c\\u0435\\u0432\\u0438\\u0447\", \"Total Score\": \"\\u043f\\u0435\\u0440\\u0435\\u0432\\u043e\\u0434\", \"Math\": null, \"Russian\": null, \"IT\": null, \"Program\": \"FM\", \"Foreign Language\": null}]}}, {\"mode\": \"vega-lite\"});\n",
              "</script>"
            ]
          },
          "metadata": {
            "tags": []
          },
          "execution_count": 28
        }
      ]
    },
    {
      "cell_type": "code",
      "metadata": {
        "id": "Hl4WtJpTyROW"
      },
      "source": [
        ""
      ],
      "execution_count": null,
      "outputs": []
    }
  ]
}